{
 "cells": [
  {
   "cell_type": "code",
   "execution_count": 10,
   "metadata": {},
   "outputs": [],
   "source": [
    "#Import Libraries\n",
    "import numpy as np\n",
    "import pandas as pd\n",
    "import matplotlib.pyplot as plt\n",
    "from sklearn import linear_model"
   ]
  },
  {
   "cell_type": "code",
   "execution_count": 11,
   "metadata": {},
   "outputs": [
    {
     "name": "stdout",
     "output_type": "stream",
     "text": [
      "149\n",
      "149\n",
      "150\n",
      "299\n",
      "299\n",
      "Samples of Training Data:\n",
      "299\n",
      "Samples of Inference Data:\n",
      "34\n"
     ]
    }
   ],
   "source": [
    "#Dataset Processing\n",
    "\n",
    "csv_path = \"LakeviewFp.xlsx\"\n",
    "df = pd.read_excel(csv_path)\n",
    "\n",
    "feature_keys = [\n",
    "    \"Week\",\n",
    "    \"Month\",\n",
    "    \"Clients\",\n",
    "    \"Class\",\n",
    "    \"Temperature\",\n",
    "    \"Rain\",\n",
    "    \"Covid\",\n",
    "    \"CPI\",\n",
    "    \"ER\",\n",
    "    \"School\"\n",
    "]\n",
    "\n",
    "u=4\n",
    "start=u\n",
    "end=int(df.shape[0])-start\n",
    "selected_features = [feature_keys[i] for i in [0, 2, 3, 4, 5, 6, 7, 8, 9]]\n",
    "features = df[selected_features]\n",
    "features=features.values\n",
    "\n",
    "\n",
    "\n",
    "#Training data and Validation data\n",
    "l=len(features)\n",
    "x=[]\n",
    "for j in range(l-u):\n",
    "    y=[features[j+u][1]]\n",
    "    for k in range(u):\n",
    "        y=np.append(y, features[j+k])\n",
    "    x.append(y.tolist())\n",
    "features=np.array(x)\n",
    "np.random.seed(1)\n",
    "a=np.arange(len(features))\n",
    "\n",
    "features_new=[]\n",
    "y_new=[]\n",
    "f_new=[]\n",
    "for i in a:\n",
    "    features_new.append(features[i][1:])\n",
    "    y_new.append(features[i][0])\n",
    "    \n",
    "#inference data split\n",
    "split=0.5\n",
    "split=round(split*len(features))\n",
    "X=features_new[0:split-1]\n",
    "Y=y_new[0:split-1]\n",
    "next_split=0.9\n",
    "train_split=round(next_split*len(Y))\n",
    "x_train=X[0:train_split-1]\n",
    "y_train=Y[0:train_split-1]\n",
    "y_val=Y[train_split:]\n",
    "x_val=X[train_split:]\n",
    "X1=features_new[split:]\n",
    "Y1=y_new[split:]\n",
    "next_split=0.9\n",
    "train_split=round(next_split*len(Y1))\n",
    "x_train1=X1[0:train_split-1]\n",
    "y_train1=Y1[0:train_split-1]\n",
    "y_val1=Y1[train_split:]\n",
    "x_val1=X1[train_split:]\n",
    "print(len(x_train))\n",
    "print(len(y_train))\n",
    "l=len(y_train1)\n",
    "print(l)\n",
    "for i in range(l):\n",
    "    x_train.append(x_train1[i])\n",
    "    y_train.append(y_train1[i])\n",
    "print(len(x_train))\n",
    "print(len(y_train))\n",
    "for i in range(len(y_val1)):\n",
    "    x_val.append(x_val1[i])\n",
    "    y_val.append(y_train1[i])\n",
    "print('Samples of Training Data:')\n",
    "print(len(y_train)) \n",
    "print('Samples of Inference Data:')\n",
    "print(len(y_val))"
   ]
  },
  {
   "cell_type": "code",
   "execution_count": 12,
   "metadata": {},
   "outputs": [
    {
     "name": "stdout",
     "output_type": "stream",
     "text": [
      "Training Error: \n",
      "0.40169367980565385\n",
      "Inference Error: \n",
      "0.43352824451661925\n"
     ]
    }
   ],
   "source": [
    "regress=linear_model.Lasso(alpha=0.01, normalize=True).fit(x_train, y_train)\n",
    "y_pred=regress.predict(x_train)\n",
    "score = np.mean(np.abs(y_pred - y_train) / np.abs(y_train))\n",
    "print('Training Error: ')\n",
    "print(score)\n",
    "y_pred=regress.predict(x_val)\n",
    "score = np.mean(np.abs(y_pred - y_val) / np.abs(y_val))\n",
    "print('Inference Error: ')\n",
    "print(score)"
   ]
  },
  {
   "cell_type": "code",
   "execution_count": 13,
   "metadata": {},
   "outputs": [],
   "source": [
    "a=[0.01, 0.05, 0.1, 0.2, 0.3, 0.4, 0.5, 0.6, 0.7, 0.8, 0.9, 1]\n",
    "score1=[]\n",
    "score=[]\n",
    "for i in a:\n",
    "    regress=linear_model.Lasso(alpha=i, normalize=True).fit(x_train, y_train)\n",
    "    regress.fit(x_train, y_train)\n",
    "    y_pred1=regress.predict(x_train)\n",
    "    y_pred=regress.predict(x_val)\n",
    "    #print(y_pred)\n",
    "    score1.append(np.mean(np.abs(y_pred1 - y_train) / np.abs(y_train)))\n",
    "    score.append(np.mean(np.abs(y_pred - y_val) / np.abs(y_val)))"
   ]
  },
  {
   "cell_type": "code",
   "execution_count": 14,
   "metadata": {},
   "outputs": [
    {
     "data": {
      "image/png": "[encoded data removed]",
      "text/plain": [
       "<Figure size 432x288 with 1 Axes>"
      ]
     },
     "metadata": {
      "needs_background": "light"
     },
     "output_type": "display_data"
    }
   ],
   "source": [
    "fig = plt.figure()\n",
    "plt.plot(a, score1)\n",
    "plt.xlabel('Regularization Parameter')\n",
    "plt.ylabel('MAPE')\n",
    "fig.savefig('trainingErrorLasso.png')"
   ]
  },
  {
   "cell_type": "code",
   "execution_count": 15,
   "metadata": {},
   "outputs": [
    {
     "data": {
      "image/png": "[encoded data removed]",
      "text/plain": [
       "<Figure size 432x288 with 1 Axes>"
      ]
     },
     "metadata": {
      "needs_background": "light"
     },
     "output_type": "display_data"
    }
   ],
   "source": [
    "fig = plt.figure()\n",
    "plt.plot(a, score)\n",
    "plt.xlabel('Regularization Parameter')\n",
    "plt.ylabel('MAPE')\n",
    "fig.savefig('inferenceErrorLasso.png')"
   ]
  }
 ],
 "metadata": {
  "kernelspec": {
   "display_name": "Python 3",
   "language": "python",
   "name": "python3"
  },
  "language_info": {
   "codemirror_mode": {
    "name": "ipython",
    "version": 3
   },
   "file_extension": ".py",
   "mimetype": "text/x-python",
   "name": "python",
   "nbconvert_exporter": "python",
   "pygments_lexer": "ipython3",
   "version": "3.7.1"
  }
 },
 "nbformat": 4,
 "nbformat_minor": 4
}
